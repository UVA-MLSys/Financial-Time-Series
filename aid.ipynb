{
 "cells": [
  {
   "cell_type": "code",
   "execution_count": 2,
   "metadata": {},
   "outputs": [
    {
     "name": "stdout",
     "output_type": "stream",
     "text": [
      "   stateid state  year  public_two_yr  public_four_yr  private_not_profit  \\\n",
      "0        1    AL  2004              1               1                   1   \n",
      "1        1    AL  2005              1               1                   1   \n",
      "2        1    AL  2006              1               1                   1   \n",
      "\n",
      "   for_profit   need_amt  need_number    need_avg  ... combo_other_acad_yn  \\\n",
      "0         1.0  1072561.0         2697  397.686689  ...                  -3   \n",
      "1         1.0   722500.0         1495  483.277592  ...                  -3   \n",
      "2         1.0  2077150.0         3742  555.090861  ...                  -3   \n",
      "\n",
      "   combo_other_acad_thresh  combo_and  combo_program combo_public_two_yr  \\\n",
      "0                       -3         -3              .                  -3   \n",
      "1                       -3         -3              .                  -3   \n",
      "2                       -3         -3              .                  -3   \n",
      "\n",
      "   combo_public_four_yr  combo_private_not_profit  combo_for_profit  \\\n",
      "0                    -3                        -3                -3   \n",
      "1                    -3                        -3                -3   \n",
      "2                    -3                        -3                -3   \n",
      "\n",
      "  x_combo_notes2  field_specific  \n",
      "0              .               0  \n",
      "1              .               0  \n",
      "2              .               0  \n",
      "\n",
      "[3 rows x 65 columns]\n"
     ]
    }
   ],
   "source": [
    "import pandas as pd\n",
    "# https://informedstates.org/state-financial-aid-dataset-download\n",
    "df = pd.read_excel('data/InformEd_States_statefaid_dataset.xlsx', sheet_name='data')\n",
    "print(df.head(3))"
   ]
  },
  {
   "cell_type": "code",
   "execution_count": 3,
   "metadata": {},
   "outputs": [
    {
     "data": {
      "text/plain": [
       "stateid                      int64\n",
       "state                       object\n",
       "year                         int64\n",
       "public_two_yr                int64\n",
       "public_four_yr               int64\n",
       "                             ...  \n",
       "combo_public_four_yr         int64\n",
       "combo_private_not_profit     int64\n",
       "combo_for_profit             int64\n",
       "x_combo_notes2              object\n",
       "field_specific               int64\n",
       "Length: 65, dtype: object"
      ]
     },
     "execution_count": 3,
     "metadata": {},
     "output_type": "execute_result"
    }
   ],
   "source": [
    "df.dtypes"
   ]
  },
  {
   "cell_type": "code",
   "execution_count": 4,
   "metadata": {},
   "outputs": [
    {
     "name": "stdout",
     "output_type": "stream",
     "text": [
      "Target columns  ['need_amt', 'need_number', 'need_avg', 'merit_amt', 'merit_number', 'merit_avg', 'combo_amt', 'combo_number', 'combo_avg'] \n",
      "\n",
      "Flag columns  ['public_two_yr', 'public_four_yr', 'private_not_profit', 'for_profit', 'need_income_yn', 'need_efc_yn', 'need_other_yn', 'need_and', 'need_public_two_yr', 'need_public_four_yr', 'need_private_not_profit', 'need_for_profit', 'merit_gpa_yn', 'merit_sat_yn', 'merit_other_yn', 'merit_and', 'merit_public_two_yr', 'merit_public_four_yr', 'merit_private_not_profit', 'merit_for_profit', 'combo_income_yn', 'combo_efc_yn', 'combo_other_need_yn', 'combo_gpa_yn', 'combo_sat_yn', 'combo_other_acad_yn', 'combo_and', 'combo_public_two_yr', 'combo_public_four_yr', 'combo_private_not_profit', 'combo_for_profit', 'field_specific'] \n",
      "\n",
      "Threshold columns  ['need_income_thresh', 'need_efc_thresh', 'need_other_thresh', 'merit_gpa_thresh', 'merit_sat_thresh', 'merit_other_thresh', 'combo_income_thresh', 'combo_efc_thresh', 'combo_other_need_thresh', 'combo_gpa_thresh', 'combo_sat_thresh', 'combo_other_acad_thresh'] \n",
      "\n",
      "Program columns  ['need_program', 'merit_program', 'combo_program'] \n",
      "\n",
      "['x_need_notes', 'x_merit_notes', 'x_combo_notes', 'x_need_notes2', 'x_merit_notes2', 'x_combo_notes2']\n"
     ]
    }
   ],
   "source": [
    "id_cols = ['stateid', 'state']\n",
    "time_col = ['year']\n",
    "target_columns = [col for col in df.columns if col.endswith('_avg') or col.endswith('_amt') or col.endswith('_number')]\n",
    "print('Target columns ', target_columns, '\\n')\n",
    "\n",
    "flag_columns = [col for col in df.columns if col.endswith('_yn') or col.endswith('_and') or col.endswith('_yr') or col.endswith('_profit')] + ['field_specific']\n",
    "print('Flag columns ', flag_columns, '\\n')\n",
    "\n",
    "threshold_columns = [col for col in df.columns if 'thresh' in col]\n",
    "print('Threshold columns ', threshold_columns, '\\n')\n",
    "\n",
    "program_columns = [col for col in df.columns if 'program' in col]\n",
    "print('Program columns ', program_columns, '\\n')\n",
    "\n",
    "notes_columns = [col for col in df.columns if '_notes' in col]\n",
    "print(notes_columns)"
   ]
  },
  {
   "cell_type": "code",
   "execution_count": 5,
   "metadata": {},
   "outputs": [],
   "source": [
    "df[flag_columns] = df[flag_columns].fillna(0)"
   ]
  },
  {
   "cell_type": "code",
   "execution_count": 6,
   "metadata": {},
   "outputs": [
    {
     "data": {
      "text/plain": [
       "43"
      ]
     },
     "execution_count": 6,
     "metadata": {},
     "output_type": "execute_result"
    }
   ],
   "source": [
    "len(['stateid', 'year']+flag_columns+target_columns)"
   ]
  },
  {
   "cell_type": "code",
   "execution_count": 43,
   "metadata": {},
   "outputs": [],
   "source": [
    "df[['stateid', 'year']+flag_columns+target_columns].round(0).to_csv('data/Financial_Aid_State.csv', index=False)"
   ]
  },
  {
   "cell_type": "code",
   "execution_count": 34,
   "metadata": {},
   "outputs": [
    {
     "name": "stdout",
     "output_type": "stream",
     "text": [
      "Columns left [] \n",
      "\n"
     ]
    }
   ],
   "source": [
    "left_columns = [\n",
    "    col for col in df.columns \n",
    "    if col not in id_cols + time_col + target_columns + flag_columns + threshold_columns + program_columns + notes_columns\n",
    "]\n",
    "print('Columns left', left_columns, '\\n')"
   ]
  },
  {
   "cell_type": "code",
   "execution_count": 35,
   "metadata": {},
   "outputs": [
    {
     "name": "stdout",
     "output_type": "stream",
     "text": [
      "need_income_thresh: ['-3' '40000' '66700' '67600' '69600' '72300' '73200' '76400' '79700'\n",
      " '80200' '78100' '80100' '83100' '87400' '87200' '90500' '95400' '98900'\n",
      " '102500' '36000' '80000' '110000' '125000' '38000' '75000' '96000'\n",
      " '30820' '31340' '32510' '33100' '55% of Oregon median family income' '-9'\n",
      " '70000' '66000' '67000' '69000' '36500' '45000' '47000' '52500' '57000'\n",
      " '57500' '58500' '59500' '60500' '61500' '64000']\n",
      "need_efc_thresh: ['Start awarding at lowest EFC' '-3' '-9' 'Lowest EFC first' '10999'\n",
      " '6000' '7000' '9000' '11500' '12000' '13000' '13500' '15000' '4600'\n",
      " '4300' '4100' '4400' '3600' '1000' '4000' '3000' '5000' '4800' '5800'\n",
      " '4110' '4041' '5273' '4995' '5081' '5198' '5328' '5486' '6175' '6550'\n",
      " '7300' '8050'\n",
      " 'determined by institutions, according to NSHE Financial Aid Reports, but frequently use EFC'\n",
      " '8500' '2190' '3500' 'using federal and state methodology' '2100']\n",
      "need_other_thresh: ['-3'\n",
      " 'Beginning with the studetn with the highest need and moving on down, the awards are then given'\n",
      " 'Beginning with the studetn with the highest need and moving on down, the awards are then given (8,000 is minimum required unmet need)'\n",
      " 'Beginning with the studetn with the highest need and moving on down, the awards are then given (14,000 is minimum required unmet need)'\n",
      " 'Beginning with the studetn with the highest need and moving on down, the awards are then given (14,300 is minimum required unmet need)'\n",
      " 'Beginning with the studetn with the highest need and moving on down, the awards are then given (12, 781 is minimum required unmet need)'\n",
      " '-9'\n",
      " 'Must have substantial financial need (be eligible for the Federal Pell Grant) as determined by the Free Application for Federal Student Aid (FAFSA)'\n",
      " 'Pell Grant Recipient' '51600' '52300' '53800' '55900' '56600' '59100'\n",
      " '61700' '62000' '60500' '64300' '67600' '67500' '70000' '73800' '76500'\n",
      " '79300' 'COA-EFC (need)' 'economic need'\n",
      " 'Students must apply for the Pell Grant and have a minimum of $200 in demonstrated unmet financial need (Florida Statute 1009.50)'\n",
      " 'Pell receipt; Demonstrate substantial financial need, as determined by federal need-analysis methodology'\n",
      " 'Demonstrated financial need'\n",
      " 'Adjusted  EFC+80% FY03 Pell (data come from ISAC 2020 Data Book)'\n",
      " 'Adjusted EFC+80% FY03 Pell' 'Adjusted EFC+80% FY04 Pell'\n",
      " 'Adjusted EFC+80% FY10 Pell'\n",
      " 'Starts with sorting by lowest EFC then factors in other aid, finally, awards by 3500 or less first on remaining EFC'\n",
      " 'COA-Pell-EFC-CAP'\n",
      " 'Students must receive the Pell Grant and have Education Cost Gap (remaining financial need) >$0'\n",
      " 'Students must receive the Pell Grant and have remaining financial need after deducting EFC and all other grant aid from COA'\n",
      " 'Formula using EFC as just a component'\n",
      " 'equation with EFC and estimated Pell subtracted from total cost of attendance'\n",
      " \"students must have earned at least $2,575 during previous calendar year (intended to offset any Pell dollars lost due to students' wages) (historical program website)\"\n",
      " \"students must have earned at least $2,575 during previous calendar year (intended to offset any Pell dollars lost due to students' wages) (historical program website from FY05 & 07)\"\n",
      " \"students must have earned at least $2,925 during previous calendar year (intended to offset any Pell dollars lost due to students' wages) (historical program website from FY09 and 12, average of the 2 years)\"\n",
      " \"students must have earned at least $3,275 during previous calendar year (intended to offset any Pell dollars lost due to students' wages) (historical program website)\"\n",
      " \"students must have earned at least $3,625 during previous calendar year (intended to offset any Pell dollars lost due to students' wages) (historical program website)\"\n",
      " 'Pell eligible'\n",
      " ' <=110% of the maximum EFC to qualify for the Pell Grant; grant is decentralized and Institutions allocate awards to eligible so coded as other need threshold since EFC is not only consideration\\nstudents subject to eligibility criteria, maximum award limits, and allocations'\n",
      " 'calculate need based on FAFSA, according to administrative code and historical websites'\n",
      " 'Determined by FAFSA'\n",
      " 'Financial need determined by EFC starting with those with greatest need'\n",
      " 'formula with EFC' 'Formula with EFC and income requirement'\n",
      " 'Needy student as defined by Title IV of Federal Student Aid Program'\n",
      " 'Unmet financial need'\n",
      " '\"Have demonstrated need for financial assistance\"'\n",
      " '\"An institution shall establish criteria to assess an applicant’s financial need. The criteria shall use quantifiable, need-based measures (for example, institutions may establish a range with a minimum and maximum Expected Family Contribution (EFC) based on the Free Application for Federal Student Aid within which an eligible recipient’s EFC must fall to be eligible for an award)'\n",
      " 'financial need' 'financial need, available funding'\n",
      " 'financial need, timing of application also considered '\n",
      " 'Demonstrate financial need' 'demonstrated financial need']\n",
      "merit_gpa_thresh: ['-3' '3.5' '2.5' '-9' '3.75' '3' '2.8' '3.7' '2.5 w/ACT of 17' '3.4'\n",
      " '3.25' 'GPA included in calculation of scholarship index' '3.3'\n",
      " 'Highest GPA in high school']\n",
      "merit_sat_thresh: ['-3' '1220' '900' '730' '990' '880' '960'\n",
      " 'Top 5% score on SAT, ACT, or state exam' 'Top 20% SAT or ACT score' '17'\n",
      " '1170' '15' '30' 'Proficient on end of Algebra I Course Exam'\n",
      " '15 w/ 3.00 GPA or Proficient on COMPASS Algebra or Proficient on Algebra I Course Exam'\n",
      " '1440' 'GPA and test score formula' '1070' '1260'\n",
      " 'Must be in top 5% of state. Next cut is at the sum of English, math, reading, and science'\n",
      " '24' 'ACT included in calculation of scholarship index' '19' '21' '-9'\n",
      " '22']\n",
      "merit_other_thresh: ['-3' 'Demonstrates Leadership' 'Curricular'\n",
      " 'Academic rigor requirement added (gsfc.org historical website)'\n",
      " 'COMPASS Tests of reading, writing, and algebra' 'Top 5% of HS class '\n",
      " 'Top 20% of high school graduating class' 'Score on Vocational Test'\n",
      " 'In addition to GPA threshold, PSAT, SAT 1, or ACT scores are considered; Finalist for the National Merit Scholarship are automatically awarded; There is a separate category based on artistic talent'\n",
      " 'Students must score in Advanced category on Grade 10 MCAS test, in either Math or English. Must also score in either Advanced of Proficient in the other test. Combined MCAS scores must rank in the top 25% of school district. '\n",
      " 'Students must score Avanced on one test and at least Proficient or Advanced on the other two tests (of the new set of 3 tests). Combined MCAS score must still rank in top 25% of school district.'\n",
      " 'Level 1 or Level 2 on 2 MEAP high school tests'\n",
      " 'Level 1 or Level 2 on multiple MEAP high school tests'\n",
      " 'Qualifying score on MME high school test' 'Curriculum Completed'\n",
      " '3 yrs at A+ School, 95% attendance rate, 50 hours of unpaid tutoring or mentoring'\n",
      " 'top 25% of graduating high school class' 'Top 10% of HS class'\n",
      " 'Top 15% of HS class\\nCollege placement test'\n",
      " 'weighted average of Regents test scores, rank in class, or local assessment (high schools determine nomination criteria from these)'\n",
      " 'Rank top 5 in HS based on scholarship index'\n",
      " 'National Merit semifinlist or above'\n",
      " \"Students complete credits toward an associate's degree during high school\"\n",
      " '\"Complete the Utah Scholars Core Course of Study\"']\n",
      "combo_income_thresh: ['-3' '60000' '75000' '35100' '35500' '36600' '38000' '38500' '40200'\n",
      " '41900' '42200' '41100' '42100' '43700' '45900' '45800' '47600' '50100'\n",
      " '52000' '53900' '-9' '30000-40000' '40000-45000' '130% of poverty level'\n",
      " '23920' '24505' '25155' '26845' '27560' '28655' '29965' '30615' '31525'\n",
      " '31980' '150000' '39500' '30000' '50000' '55000' '36000' '89100' '89900'\n",
      " 'at or below 125% of state median family income at time of application and two years prior'\n",
      " '42600' '42568' '44123' '55500']\n",
      "combo_efc_thresh: ['-3' '0' '10999' '-9' 'Varies by year' '6269' '6420' '6704' '7141' '7534'\n",
      " '7806' '7824' '7853' '7885' '8118' 'EFC of $20,000' '4800' '5088' '5233'\n",
      " '5430' '5609' '5875']\n",
      "combo_other_need_thresh: ['-3' '500 dollars of unmet need or more' '51600' '52300' '53800' '55900'\n",
      " '56600' '59100' '61700' '62000' '60500' '64300' '67600' '67500' '70000'\n",
      " '73800' '76500' '79300' 'COA-EFC (need)'\n",
      " 'financial need as determined by the institution'\n",
      " 'Demonstrated financial need' 'Some form of unmet need'\n",
      " 'substantial need of <$199' 'Equation w/EFC' 'Needs Equation w/EFC'\n",
      " 'Selection prioritized based on unmet need' 'Meets Title IV Requirements'\n",
      " 'Equation with EFC'\n",
      " 'can also qualify based on FRPL eligibility, TANF receipt, or foster care/dependent of state'\n",
      " 'can also qualify based on TANF receipt, or foster care'\n",
      " 'demonstrated financial need'\n",
      " 'Equation using EFC as one component to determine eligiblity']\n",
      "combo_gpa_thresh: ['-3' '2.5' '2.25' '2' '3'\n",
      " 'seems to be set by institutions (per administrative code)'\n",
      " 'Index of GPA and ACT' '2.3' '3.3' '2.7' '2.75']\n",
      "combo_sat_thresh: ['-3' '1450' '1060' '25'\n",
      " 'seems to be set by institutions (per administrative code)' '1200' '1800'\n",
      " '1210' 'Index of GPA and ACT' '20' '23' '950' '1140' '900' '18'\n",
      " 'ninety-fifth percentile in math on SAT'\n",
      " 'test score used in formula to determine eligibility' '17']\n",
      "combo_other_acad_thresh: ['-3' 'Curriculum Requirement' 'Top 20% of Class' 'Top 20% of class'\n",
      " 'Completed Scholars Curriculum' 'Specific High School curriculum'\n",
      " 'Graduate in top 5% of HS class'\n",
      " 'Graduate with honors on NYS Regents diploma or receive 3 or higher on two or more AP exams; or graduate within 15% of HS class (must meet 2 of the listed academic requirements)'\n",
      " 'Top-75% of Class'\n",
      " 'Rank in the top 10 percent of the HS graduating class'\n",
      " 'One requirement in at least two of the following areas:\\n\\nClass Standing: Graduate in the top 1/3 of the HS graduating class, GPA 3.0\\nAdvanced Academic Program: 12 hrs of college credit (dual credit or AP), Advanced High School Program, IB Program\\nTSI Readiness: Meet Texas Success Initiaves assessment threshold\\nAdvanced Math: Complete at least one math course byond Algebra II, complete at least one advanced career and technical course'\n",
      " 'top 15% of high school class'\n",
      " 'level 4 on math or science on state assessment'\n",
      " '2 of either Algebry I, Agebra II, or Geometry, HS requirements other areas, and 2 years of CTE, Fine/Perf Arts, or For Lang.']\n"
     ]
    }
   ],
   "source": [
    "for col in threshold_columns:\n",
    "    print(f'{col}: {df[col].unique()}')"
   ]
  }
 ],
 "metadata": {
  "kernelspec": {
   "display_name": "Python 3",
   "language": "python",
   "name": "python3"
  },
  "language_info": {
   "codemirror_mode": {
    "name": "ipython",
    "version": 3
   },
   "file_extension": ".py",
   "mimetype": "text/x-python",
   "name": "python",
   "nbconvert_exporter": "python",
   "pygments_lexer": "ipython3",
   "version": "3.10.2"
  }
 },
 "nbformat": 4,
 "nbformat_minor": 2
}
