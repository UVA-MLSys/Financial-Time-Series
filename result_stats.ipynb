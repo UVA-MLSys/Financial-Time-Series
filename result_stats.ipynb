{
 "cells": [
  {
   "cell_type": "markdown",
   "metadata": {},
   "source": [
    "# Import"
   ]
  },
  {
   "cell_type": "code",
   "execution_count": 1,
   "metadata": {},
   "outputs": [],
   "source": [
    "import os, re, pandas as pd\n",
    "import numpy as np"
   ]
  },
  {
   "cell_type": "markdown",
   "metadata": {},
   "source": [
    "# Extract result"
   ]
  },
  {
   "cell_type": "markdown",
   "metadata": {},
   "source": [
    "## Patterns"
   ]
  },
  {
   "cell_type": "code",
   "execution_count": 2,
   "metadata": {},
   "outputs": [],
   "source": [
    "result_pattern = re.compile(r'mse:(?P<mse>\\d+.\\d+), mae:(?P<mae>\\d+.\\d+)\\n')\n",
    "memory_pattern = re.compile(r'Allocated (?P<allocated>\\d+.\\d+) MB, Max allocated (?P<max_allocated>\\d+.\\d+) MB\\n')\n",
    "memory_pattern2 = re.compile(r'Allocated (?P<allocated>\\d+.\\d+) MB\\n')\n",
    "time_pattern = re.compile(r'Time per epoch: (?P<time>\\d+.\\d+) sec.\\n')"
   ]
  },
  {
   "cell_type": "markdown",
   "metadata": {},
   "source": [
    "## Utils"
   ]
  },
  {
   "cell_type": "code",
   "execution_count": 3,
   "metadata": {},
   "outputs": [],
   "source": [
    "def find_and_add(\n",
    "    rows, root, lines, verbose=False\n",
    "):\n",
    "    parameters = {\n",
    "        'seq_len': 96,\n",
    "        'pred_len': 24,\n",
    "        'percent': 100,\n",
    "    }\n",
    "\n",
    "    splits = root.split('\\\\')\n",
    "    iter_no = int(splits[-1])\n",
    "    dataset = splits[-3]\n",
    "    \n",
    "    if dataset == 'Financial_Aid':\n",
    "        return\n",
    "    model_folder = splits[-2]\n",
    "    model = model_folder.split('_')[0]\n",
    "\n",
    "    values = model_folder.split('_')[2::2]\n",
    "    for i, item in enumerate(model_folder.split('_')[1::2]):\n",
    "        if item == 'pl':\n",
    "            parameters['pred_len'] = int(values[i])\n",
    "        elif item == 'sl':\n",
    "            parameters['seq_len'] = int(values[i])\n",
    "        elif item == 'p':\n",
    "            parameters['percent'] = int(values[i])\n",
    "        elif item == 'zeroshot':\n",
    "            parameters['percent'] = 0\n",
    "\n",
    "    result_found = memory_found = time_found = False\n",
    "\n",
    "    for line in lines[::-1]:\n",
    "        # search and extract numbers after mse and mae if the line starts with test scaled \n",
    "        if line.startswith('test scaled -- '):\n",
    "            results = result_pattern.search(line).groupdict()\n",
    "            mae = float(results['mae'])\n",
    "            mse = float(results['mse'])\n",
    "            if verbose:print(f'MAE {mae}, MSE {mse}')\n",
    "            result_found = True\n",
    "            \n",
    "        elif line.startswith('Memory usage: '):\n",
    "            memory = memory_pattern.search(line)\n",
    "            if memory is None:\n",
    "                memory = memory_pattern2.search(line)\n",
    "                max_allocated = None\n",
    "            else:\n",
    "                memory = memory.groupdict()\n",
    "                max_allocated = float(memory['max_allocated'])\n",
    "            \n",
    "            allocated = float(memory['allocated'])\n",
    "            if verbose:\n",
    "                print(f'Allocated {allocated} MB, Max allocated {max_allocated} MB.')\n",
    "            memory_found = True\n",
    "        elif line.startswith('Time per epoch: '):\n",
    "            time_result = time_pattern.search(line).groupdict()\n",
    "            time_spent = float(time_result['time'])\n",
    "            if verbose:print(f'Time spent {time_spent} sec.')\n",
    "            \n",
    "            time_found = True\n",
    "            \n",
    "        # stop searching if both result and memory are found\n",
    "        if result_found and memory_found and time_found:\n",
    "            break\n",
    "            \n",
    "    if result_found:\n",
    "        rows['dataset'].append(dataset)\n",
    "        rows['model'].append(model)\n",
    "        rows['iteration'].append(iter_no)\n",
    "        rows['mae'].append(mae)\n",
    "        rows['mse'].append(mse)\n",
    "        rows['seq_len'].append(parameters['seq_len'])\n",
    "        rows['pred_len'].append(parameters['pred_len'])\n",
    "        rows['percent'].append(parameters['percent'])\n",
    "        \n",
    "        # for zeroshot cases\n",
    "        if memory_found and time_found:\n",
    "            rows['memory'].append(allocated)\n",
    "            rows['time'].append(time_spent)\n",
    "        else:\n",
    "            rows['memory'].append(None)\n",
    "            rows['time'].append(None)"
   ]
  },
  {
   "cell_type": "markdown",
   "metadata": {},
   "source": [
    "## Extraction"
   ]
  },
  {
   "cell_type": "code",
   "execution_count": 4,
   "metadata": {},
   "outputs": [],
   "source": [
    "rows = {\n",
    "    col:[] for col in [\n",
    "        'dataset', 'model', 'iteration', 'mae', \n",
    "        'mse', 'seq_len', 'pred_len', 'percent',\n",
    "        'memory', 'time'\n",
    "    ]\n",
    "}\n",
    "\n",
    "for root, dirs, files in os.walk(u\"./results\"):\n",
    "    path = root.split(os.sep)\n",
    "    # print((len(path) - 1) * '---', os.path.basename(root))\n",
    "    for file in files:\n",
    "        # print(len(path) * '---', file)\n",
    "        if file == 'results.txt':\n",
    "            # print(root, ' ', file)\n",
    "            \n",
    "            if 'TimeLLM' in file and 'LLAMA' not in file:\n",
    "                continue\n",
    "            \n",
    "            with open(os.path.join(root, file), 'r') as f:\n",
    "                lines = f.readlines()\n",
    "                find_and_add(rows, root, lines)"
   ]
  },
  {
   "cell_type": "markdown",
   "metadata": {},
   "source": [
    "## Dump"
   ]
  },
  {
   "cell_type": "code",
   "execution_count": 5,
   "metadata": {},
   "outputs": [],
   "source": [
    "rows_df = pd.DataFrame(rows)\n",
    "rows_df.to_csv('results/results.csv', index=False)"
   ]
  },
  {
   "cell_type": "markdown",
   "metadata": {},
   "source": [
    "# Data"
   ]
  },
  {
   "cell_type": "markdown",
   "metadata": {},
   "source": [
    "## Load"
   ]
  },
  {
   "cell_type": "code",
   "execution_count": 6,
   "metadata": {},
   "outputs": [],
   "source": [
    "# rows_df = pd.read_csv('results/results.csv')\n",
    "rows_df.fillna(0, inplace=True)\n",
    "\n",
    "metrics = ['mae', 'mse', 'memory', 'time']\n",
    "groupby_columns = [col for col in rows_df.columns if col not in ['iteration']+metrics]\n",
    "rows_df = rows_df.groupby(groupby_columns)[metrics].mean().reset_index()"
   ]
  },
  {
   "cell_type": "markdown",
   "metadata": {},
   "source": [
    "## Datasets and models"
   ]
  },
  {
   "cell_type": "code",
   "execution_count": 7,
   "metadata": {},
   "outputs": [],
   "source": [
    "models = [\n",
    "    'DLinear', 'PatchTST', 'TimesNet', \n",
    "    'TimeMixer', 'iTransformer', 'TimeLLM', 'CALF', 'OFA'\n",
    "]\n",
    "llm_models = ['TimeLLM', 'CALF', 'OFA']\n",
    "datasets = [\n",
    "    'SPX500', 'Apple', 'MSFT', 'Crude_Oil', \n",
    "    'Gold','Natural_Gas','Exchange_Rate_Report', \n",
    "    'Financial_Aid_State'\n",
    "]\n",
    "\n",
    "best_color = r' & \\cellcolor[HTML]{2B7BBA}\\textbf{'\n",
    "second_best_color = r' & \\cellcolor[HTML]{89BEDC}\\underline{' \n",
    "llm_color = r' & \\cellcolor[HTML]{A9A9A9}' \n",
    "end_bracket = r'} '\n",
    "\n",
    "best_without_color = r' & \\textbf{'\n",
    "second_best_without_color = r' & \\underline{'\n",
    "\n",
    "datasets_map = {\n",
    "    'SPX500': 'S\\&P 500',\n",
    "    'Apple': 'Apple',\n",
    "    'MSFT': 'Microsoft',\n",
    "    'Crude_Oil': 'Crude Oil',\n",
    "    'Gold': 'Gold',\n",
    "    'Natural_Gas': 'Natural Gas',\n",
    "    'Exchange_Rate_Report': 'Exchange',\n",
    "    'Financial_Aid_State': 'Financial Aid'\n",
    "}"
   ]
  },
  {
   "cell_type": "markdown",
   "metadata": {},
   "source": [
    "# Utils"
   ]
  },
  {
   "cell_type": "code",
   "execution_count": 8,
   "metadata": {},
   "outputs": [],
   "source": [
    "def get_mins(mses, maes):\n",
    "    maes = np.array(maes)\n",
    "    mses = np.array(mses)\n",
    "    \n",
    "    min_mae = np.nanargmin(maes)\n",
    "    min_mse = np.nanargmin(mses)\n",
    "    \n",
    "    prev_value = maes[min_mae]\n",
    "    maes[min_mae] = np.inf\n",
    "    min_mae_2nd = np.nanargmin(maes)\n",
    "    maes[min_mae] = prev_value\n",
    "    \n",
    "    prev_value = mses[min_mse]\n",
    "    mses[min_mse] = np.inf\n",
    "    min_mse_2nd = np.nanargmin(mses)\n",
    "    mses[min_mse] = prev_value\n",
    "    \n",
    "    return min_mae, min_mse, min_mae_2nd, min_mse_2nd\n",
    "\n",
    "def print_rows(maes, mses, color=True):\n",
    "    min_mae, min_mse, min_mae_2nd, min_mse_2nd = get_mins(mses=mses, maes=maes)\n",
    "    \n",
    "    if color:\n",
    "        for i in range(len(maes)):\n",
    "            if i == min_mse:\n",
    "                print(best_color + f'{mses[i]:.2f} '+end_bracket, end='')\n",
    "            elif i == min_mse_2nd:\n",
    "                print(second_best_color + f'{mses[i]:.2f}'+ end_bracket, end='')\n",
    "            elif models[i] in llm_models:\n",
    "                print(llm_color + f'{mses[i]:.2f}', end='')\n",
    "            else:\n",
    "                print(f' & {mses[i]:.2f} ', end='')\n",
    "                \n",
    "            if i == min_mae:\n",
    "                print(best_color + f'{maes[i]:.2f}'+ end_bracket, end='')\n",
    "            elif i == min_mae_2nd:\n",
    "                print(second_best_color + f'{maes[i]:.2f}'+ end_bracket, end='')\n",
    "            elif models[i] in llm_models:\n",
    "                print(llm_color + f'{maes[i]:.2f}', end='')\n",
    "            else:\n",
    "                print(f' & {maes[i]:.2f}', end='')\n",
    "                \n",
    "    else:\n",
    "        for i in range(len(maes)):\n",
    "            if i == min_mse:\n",
    "                print(best_without_color + f'{mses[i]:.2f} '+end_bracket, end='')\n",
    "            elif i == min_mse_2nd:\n",
    "                print(second_best_without_color + f'{mses[i]:.2f}'+ end_bracket, end='')\n",
    "            else:\n",
    "                print(f' & {mses[i]:.2f} ', end='')\n",
    "                \n",
    "            if i == min_mae:\n",
    "                print(best_without_color + f'{maes[i]:.2f}'+ end_bracket, end='')\n",
    "            elif i == min_mae_2nd:\n",
    "                print(second_best_without_color + f'{maes[i]:.2f}'+ end_bracket, end='')\n",
    "            else:\n",
    "                print(f' & {maes[i]:.2f}', end='')\n",
    "            \n",
    "    print(f' \\\\\\\\ \\\\hline\\n')"
   ]
  },
  {
   "cell_type": "markdown",
   "metadata": {},
   "source": [
    "# RQ1"
   ]
  },
  {
   "cell_type": "code",
   "execution_count": 9,
   "metadata": {},
   "outputs": [],
   "source": [
    "df = rows_df[(rows_df['pred_len'].isin([1, 24])) & (rows_df['percent']==100)]"
   ]
  },
  {
   "cell_type": "code",
   "execution_count": 10,
   "metadata": {},
   "outputs": [
    {
     "name": "stdout",
     "output_type": "stream",
     "text": [
      "S\\&P 500  & 1.10  & 0.81 & \\cellcolor[HTML]{89BEDC}\\underline{0.99}  & 0.79 & 1.18  & 0.84 & 1.00  & \\cellcolor[HTML]{89BEDC}\\underline{0.75}  & 1.27  & 0.87 & \\cellcolor[HTML]{A9A9A9}1.10 & \\cellcolor[HTML]{A9A9A9}0.81 & \\cellcolor[HTML]{A9A9A9}1.16 & \\cellcolor[HTML]{A9A9A9}0.84 & \\cellcolor[HTML]{2B7BBA}\\textbf{0.79 }  & \\cellcolor[HTML]{2B7BBA}\\textbf{0.68}  \\\\ \\hline\n",
      "\n",
      "Apple  & \\cellcolor[HTML]{2B7BBA}\\textbf{1.58 }  & \\cellcolor[HTML]{2B7BBA}\\textbf{0.96}  & 2.03  & 1.06 & 1.75  & \\cellcolor[HTML]{89BEDC}\\underline{1.01}  & 1.91  & 1.06 & 1.94  & 1.10 & \\cellcolor[HTML]{89BEDC}\\underline{1.74}  & \\cellcolor[HTML]{A9A9A9}1.02 & \\cellcolor[HTML]{A9A9A9}1.79 & \\cellcolor[HTML]{A9A9A9}1.04 & \\cellcolor[HTML]{A9A9A9}1.75 & \\cellcolor[HTML]{A9A9A9}1.02 \\\\ \\hline\n",
      "\n",
      "Microsoft  & 1.89  & 0.96 & \\cellcolor[HTML]{2B7BBA}\\textbf{1.55 }  & \\cellcolor[HTML]{89BEDC}\\underline{0.87}  & 1.60  & 0.92 & \\cellcolor[HTML]{89BEDC}\\underline{1.55}  & \\cellcolor[HTML]{2B7BBA}\\textbf{0.86}  & 1.63  & 0.91 & \\cellcolor[HTML]{A9A9A9}2.03 & \\cellcolor[HTML]{A9A9A9}1.01 & \\cellcolor[HTML]{A9A9A9}1.94 & \\cellcolor[HTML]{A9A9A9}1.00 & \\cellcolor[HTML]{A9A9A9}1.90 & \\cellcolor[HTML]{A9A9A9}0.93 \\\\ \\hline\n",
      "\n",
      "Crude Oil  & 1.08  & 0.78 & \\cellcolor[HTML]{89BEDC}\\underline{1.05}  & \\cellcolor[HTML]{2B7BBA}\\textbf{0.76}  & 1.19  & 0.82 & 1.64  & 0.93 & 1.25  & 0.83 & \\cellcolor[HTML]{A9A9A9}1.13 & \\cellcolor[HTML]{A9A9A9}0.80 & \\cellcolor[HTML]{A9A9A9}1.28 & \\cellcolor[HTML]{A9A9A9}0.88 & \\cellcolor[HTML]{2B7BBA}\\textbf{1.05 }  & \\cellcolor[HTML]{89BEDC}\\underline{0.77}  \\\\ \\hline\n",
      "\n",
      "Gold  & \\cellcolor[HTML]{89BEDC}\\underline{2.41}  & \\cellcolor[HTML]{2B7BBA}\\textbf{1.05}  & 2.51  & 1.09 & 2.46  & 1.09 & 2.49  & \\cellcolor[HTML]{89BEDC}\\underline{1.06}  & 2.44  & 1.09 & \\cellcolor[HTML]{A9A9A9}2.89 & \\cellcolor[HTML]{A9A9A9}1.20 & \\cellcolor[HTML]{A9A9A9}2.62 & \\cellcolor[HTML]{A9A9A9}1.17 & \\cellcolor[HTML]{2B7BBA}\\textbf{2.34 }  & \\cellcolor[HTML]{A9A9A9}1.06 \\\\ \\hline\n",
      "\n",
      "Natural Gas  & 1.80  & 1.02 & 2.02  & 1.05 & 1.84  & 1.02 & 2.17  & 1.11 & 1.81  & 1.02 & \\cellcolor[HTML]{A9A9A9}2.11 & \\cellcolor[HTML]{A9A9A9}1.13 & \\cellcolor[HTML]{2B7BBA}\\textbf{1.77 }  & \\cellcolor[HTML]{89BEDC}\\underline{1.00}  & \\cellcolor[HTML]{89BEDC}\\underline{1.77}  & \\cellcolor[HTML]{2B7BBA}\\textbf{0.99}  \\\\ \\hline\n",
      "\n",
      "Exchange  & \\cellcolor[HTML]{2B7BBA}\\textbf{0.92 }  & \\cellcolor[HTML]{2B7BBA}\\textbf{0.70}  & 0.94  & \\cellcolor[HTML]{89BEDC}\\underline{0.71}  & 1.71  & 0.99 & 0.95  & 0.72 & 1.06  & 0.77 & \\cellcolor[HTML]{89BEDC}\\underline{0.93}  & \\cellcolor[HTML]{A9A9A9}0.73 & \\cellcolor[HTML]{A9A9A9}1.14 & \\cellcolor[HTML]{A9A9A9}0.81 & \\cellcolor[HTML]{A9A9A9}0.97 & \\cellcolor[HTML]{A9A9A9}0.72 \\\\ \\hline\n",
      "\n",
      "Financial Aid  & 2.50  & 1.21 & 2.23  & 0.95 & 1.64  & 0.80 & 2.09  & 1.00 & 1.62  & \\cellcolor[HTML]{89BEDC}\\underline{0.78}  & \\cellcolor[HTML]{2B7BBA}\\textbf{1.38 }  & \\cellcolor[HTML]{A9A9A9}0.79 & \\cellcolor[HTML]{A9A9A9}1.64 & \\cellcolor[HTML]{A9A9A9}0.83 & \\cellcolor[HTML]{89BEDC}\\underline{1.58}  & \\cellcolor[HTML]{2B7BBA}\\textbf{0.73}  \\\\ \\hline\n",
      "\n"
     ]
    }
   ],
   "source": [
    "for dataset in datasets:\n",
    "    print(f'{datasets_map[dataset]} ', end='')\n",
    "    maes, mses = [], []\n",
    "    for model in models:\n",
    "        result = df[\n",
    "            (df['dataset'] == dataset) & (df['model'] == model)\n",
    "        ][['mse', 'mae']].values\n",
    "        \n",
    "        if len(result) == 0:\n",
    "            # print(f' & & ', end='')\n",
    "            maes.append(np.nan)\n",
    "            mses.append(np.nan)\n",
    "            continue\n",
    "            \n",
    "        mse, mae = result[0][0], result[0][1]\n",
    "        # print(f' & {mse:.2f} & {mae:.2f}', end='')\n",
    "        maes.append(mae)\n",
    "        mses.append(mse)\n",
    "    \n",
    "    print_rows(maes=maes, mses=mses)"
   ]
  },
  {
   "cell_type": "markdown",
   "metadata": {},
   "source": [
    "# RQ2"
   ]
  },
  {
   "cell_type": "code",
   "execution_count": 11,
   "metadata": {},
   "outputs": [],
   "source": [
    "df = rows_df[(rows_df['pred_len'].isin([1, 24])) & (rows_df['percent']==10)]"
   ]
  },
  {
   "cell_type": "code",
   "execution_count": 12,
   "metadata": {},
   "outputs": [
    {
     "name": "stdout",
     "output_type": "stream",
     "text": [
      "S\\&P 500  & \\underline{2.08}  & \\underline{1.14}  & \\textbf{2.03 }  & \\textbf{1.14}  & 2.43  & 1.18 & 2.49  & 1.25 & 2.19  & 1.19 & 3.07  & 1.50 & 2.37  & 1.19 & 3.07  & 1.40 \\\\ \\hline\n",
      "\n",
      "Apple  & 2.78  & 1.30 & \\underline{2.36}  & \\textbf{1.21}  & 3.22  & 1.41 & 3.44  & 1.46 & 3.05  & 1.39 & 2.62  & 1.25 & \\textbf{2.33 }  & \\underline{1.21}  & 2.80  & 1.29 \\\\ \\hline\n",
      "\n",
      "Microsoft  & 2.51  & \\underline{1.10}  & \\textbf{2.13 }  & \\textbf{1.06}  & 3.55  & 1.43 & 2.85  & 1.18 & \\underline{2.49}  & 1.15 & 3.06  & 1.28 & 2.97  & 1.27 & 3.40  & 1.37 \\\\ \\hline\n",
      "\n",
      "Crude Oil  & \\underline{1.66}  & \\underline{1.01}  & 1.96  & 1.05 & 2.75  & 1.29 & 2.06  & 1.14 & 1.92  & 1.07 & \\textbf{1.53 }  & \\textbf{0.95}  & 2.13  & 1.14 & 2.42  & 1.15 \\\\ \\hline\n",
      "\n",
      "Gold  & 2.78  & \\underline{1.14}  & 2.68  & 1.15 & \\underline{2.66}  & 1.17 & \\textbf{2.57 }  & \\textbf{1.11}  & 3.00  & 1.22 & 3.17  & 1.24 & 3.06  & 1.24 & 3.38  & 1.32 \\\\ \\hline\n",
      "\n",
      "Natural Gas  & 2.20  & 1.16 & 2.48  & 1.24 & 2.55  & 1.23 & 2.91  & 1.34 & \\textbf{2.12 }  & \\textbf{1.12}  & 2.38  & 1.13 & 2.30  & 1.17 & \\underline{2.17}  & \\underline{1.13}  \\\\ \\hline\n",
      "\n",
      "Exchange  & 1.48  & 0.92 & 1.28  & 0.85 & 2.87  & 1.34 & 1.29  & 0.84 & 1.65  & 0.96 & \\underline{1.26}  & \\underline{0.82}  & 1.48  & 0.92 & \\textbf{1.22 }  & \\textbf{0.81}  \\\\ \\hline\n",
      "\n",
      "Financial Aid  & 2.94  & 1.36 & 2.23  & \\underline{0.95}  & \\underline{2.17}  & 1.04 & 3.04  & 1.36 & 2.22  & 1.14 & 2.66  & 1.26 & \\textbf{1.64 }  & \\textbf{0.89}  & 2.36  & 1.20 \\\\ \\hline\n",
      "\n"
     ]
    }
   ],
   "source": [
    "for dataset in datasets:\n",
    "    print(f'{datasets_map[dataset]} ', end='')\n",
    "    maes, mses = [], []\n",
    "    for model in models:\n",
    "        result = df[\n",
    "            (df['dataset'] == dataset) & (df['model'] == model)\n",
    "        ][['mse', 'mae']].values\n",
    "        \n",
    "        if len(result) == 0:\n",
    "            # print(f' & & ', end='')\n",
    "            maes.append(np.nan)\n",
    "            mses.append(np.nan)\n",
    "            continue\n",
    "            \n",
    "        mse, mae = result[0][0], result[0][1]\n",
    "        # print(f' & {mse:.2f} & {mae:.2f}', end='')\n",
    "        maes.append(mae)\n",
    "        mses.append(mse)\n",
    "    \n",
    "    print_rows(maes=maes, mses=mses, color=False)"
   ]
  },
  {
   "cell_type": "markdown",
   "metadata": {},
   "source": [
    "# RQ3\n",
    "Zero shot "
   ]
  },
  {
   "cell_type": "code",
   "execution_count": 13,
   "metadata": {},
   "outputs": [],
   "source": [
    "df = rows_df[(rows_df['pred_len'].isin([1, 24])) & (rows_df['percent']==0)]"
   ]
  },
  {
   "cell_type": "code",
   "execution_count": 14,
   "metadata": {},
   "outputs": [
    {
     "name": "stdout",
     "output_type": "stream",
     "text": [
      "S\\&P 500  & 4.72  & 1.86 & \\underline{3.98}  & \\textbf{1.74}  & \\textbf{3.89 }  & \\underline{1.76}  \\\\ \\hline\n",
      "\n",
      "Apple  & 4.13  & 1.62 & \\underline{3.36}  & \\underline{1.44}  & \\textbf{3.05 }  & \\textbf{1.36}  \\\\ \\hline\n",
      "\n",
      "Microsoft  & 4.76  & 1.72 & \\underline{4.12}  & \\underline{1.62}  & \\textbf{3.96 }  & \\textbf{1.59}  \\\\ \\hline\n",
      "\n",
      "Crude Oil  & 2.99  & 1.39 & \\underline{2.21}  & \\underline{1.18}  & \\textbf{1.89 }  & \\textbf{1.08}  \\\\ \\hline\n",
      "\n",
      "Gold  & 5.95  & 1.88 & \\underline{5.12}  & \\textbf{1.76}  & \\textbf{5.00 }  & \\underline{1.77}  \\\\ \\hline\n",
      "\n",
      "Natural Gas  & 4.47  & 1.63 & \\underline{3.27}  & \\underline{1.43}  & \\textbf{2.96 }  & \\textbf{1.35}  \\\\ \\hline\n",
      "\n",
      "Exchange  & 3.37  & 1.49 & \\underline{2.41}  & \\underline{1.29}  & \\textbf{2.10 }  & \\textbf{1.23}  \\\\ \\hline\n",
      "\n",
      "Financial Aid  & \\textbf{2.86 }  & \\textbf{1.27}  & 3.82  & 1.59 & \\underline{3.17}  & \\underline{1.41}  \\\\ \\hline\n",
      "\n"
     ]
    }
   ],
   "source": [
    "for dataset in datasets:\n",
    "    print(f'{datasets_map[dataset]} ', end='')\n",
    "    maes, mses = [], []\n",
    "    for model in models[-3:]:\n",
    "        result = df[\n",
    "            (df['dataset'] == dataset) & (df['model'] == model)\n",
    "        ][['mse', 'mae']].values\n",
    "        \n",
    "        if len(result) == 0:\n",
    "            # print(f' & & ', end='')\n",
    "            maes.append(np.nan)\n",
    "            mses.append(np.nan)\n",
    "            continue\n",
    "            \n",
    "        mse, mae = result[0][0], result[0][1]\n",
    "        # print(f' & {mse:.2f} & {mae:.2f}', end='')\n",
    "        maes.append(mae)\n",
    "        mses.append(mse)\n",
    "        \n",
    "    print_rows(maes=maes, mses=mses, color=False)"
   ]
  },
  {
   "cell_type": "markdown",
   "metadata": {},
   "source": [
    "# RQ4\n",
    "\n",
    "Forecast at 48 and 96 "
   ]
  },
  {
   "cell_type": "code",
   "execution_count": 15,
   "metadata": {},
   "outputs": [
    {
     "name": "stdout",
     "output_type": "stream",
     "text": [
      "S\\&P 500 & 48 & 2.24  & 1.15 & 2.05  & 1.08 & 2.30  & 1.13 & \\cellcolor[HTML]{2B7BBA}\\textbf{1.51 }  & \\cellcolor[HTML]{2B7BBA}\\textbf{0.93}  & 2.62  & 1.26 & \\cellcolor[HTML]{A9A9A9}2.10 & \\cellcolor[HTML]{A9A9A9}1.11 & \\cellcolor[HTML]{A9A9A9}1.98 & \\cellcolor[HTML]{A9A9A9}1.08 & \\cellcolor[HTML]{89BEDC}\\underline{1.63}  & \\cellcolor[HTML]{89BEDC}\\underline{0.94}  \\\\ \\hline\n",
      "\n",
      "S\\&P 500 & 96 & 9.84  & 2.20 & 5.31  & \\cellcolor[HTML]{89BEDC}\\underline{1.65}  & 6.17  & 1.78 & 5.72  & 1.71 & 6.54  & 1.87 & \\cellcolor[HTML]{89BEDC}\\underline{5.25}  & \\cellcolor[HTML]{A9A9A9}1.67 & \\cellcolor[HTML]{A9A9A9}5.93 & \\cellcolor[HTML]{A9A9A9}1.73 & \\cellcolor[HTML]{2B7BBA}\\textbf{4.11 }  & \\cellcolor[HTML]{2B7BBA}\\textbf{1.43}  \\\\ \\hline\n",
      "\n",
      "Apple & 48 & \\cellcolor[HTML]{89BEDC}\\underline{3.24}  & \\cellcolor[HTML]{89BEDC}\\underline{1.40}  & 3.99  & 1.51 & 4.24  & 1.58 & 3.63  & 1.46 & 3.82  & 1.55 & \\cellcolor[HTML]{2B7BBA}\\textbf{3.07 }  & \\cellcolor[HTML]{2B7BBA}\\textbf{1.37}  & \\cellcolor[HTML]{A9A9A9}3.89 & \\cellcolor[HTML]{A9A9A9}1.59 & \\cellcolor[HTML]{A9A9A9}3.52 & \\cellcolor[HTML]{A9A9A9}1.44 \\\\ \\hline\n",
      "\n",
      "Apple & 96 & \\cellcolor[HTML]{89BEDC}\\underline{4.42}  & \\cellcolor[HTML]{2B7BBA}\\textbf{1.57}  & 5.94  & 1.78 & 6.33  & 1.88 & 4.70  & 1.60 & 5.09  & 1.77 & \\cellcolor[HTML]{2B7BBA}\\textbf{4.35 }  & \\cellcolor[HTML]{89BEDC}\\underline{1.58}  & \\cellcolor[HTML]{A9A9A9}4.49 & \\cellcolor[HTML]{A9A9A9}1.66 & \\cellcolor[HTML]{A9A9A9}6.91 & \\cellcolor[HTML]{A9A9A9}1.96 \\\\ \\hline\n",
      "\n",
      "Microsoft & 48 & 2.59  & 1.15 & \\cellcolor[HTML]{89BEDC}\\underline{2.55}  & 1.14 & 2.80  & 1.24 & \\cellcolor[HTML]{2B7BBA}\\textbf{2.49 }  & \\cellcolor[HTML]{89BEDC}\\underline{1.12}  & 3.06  & 1.28 & \\cellcolor[HTML]{A9A9A9}2.65 & \\cellcolor[HTML]{A9A9A9}1.18 & \\cellcolor[HTML]{A9A9A9}3.30 & \\cellcolor[HTML]{A9A9A9}1.30 & \\cellcolor[HTML]{A9A9A9}2.59 & \\cellcolor[HTML]{2B7BBA}\\textbf{1.11}  \\\\ \\hline\n",
      "\n",
      "Microsoft & 96 & 5.84  & 1.59 & \\cellcolor[HTML]{2B7BBA}\\textbf{4.32 }  & \\cellcolor[HTML]{2B7BBA}\\textbf{1.47}  & \\cellcolor[HTML]{89BEDC}\\underline{4.55}  & 1.53 & 4.84  & 1.58 & 4.98  & 1.73 & \\cellcolor[HTML]{A9A9A9}5.24 & \\cellcolor[HTML]{A9A9A9}1.66 & \\cellcolor[HTML]{A9A9A9}4.89 & \\cellcolor[HTML]{A9A9A9}1.59 & \\cellcolor[HTML]{A9A9A9}4.98 & \\cellcolor[HTML]{89BEDC}\\underline{1.48}  \\\\ \\hline\n",
      "\n",
      "Crude Oil & 48 & \\cellcolor[HTML]{2B7BBA}\\textbf{1.07 }  & \\cellcolor[HTML]{2B7BBA}\\textbf{0.83}  & 1.43  & 0.91 & 1.76  & 1.01 & 1.87  & 1.04 & 1.25  & 0.88 & \\cellcolor[HTML]{89BEDC}\\underline{1.11}  & \\cellcolor[HTML]{89BEDC}\\underline{0.85}  & \\cellcolor[HTML]{A9A9A9}1.48 & \\cellcolor[HTML]{A9A9A9}0.96 & \\cellcolor[HTML]{A9A9A9}1.28 & \\cellcolor[HTML]{A9A9A9}0.86 \\\\ \\hline\n",
      "\n",
      "Crude Oil & 96 & \\cellcolor[HTML]{2B7BBA}\\textbf{1.13 }  & \\cellcolor[HTML]{2B7BBA}\\textbf{0.87}  & 1.43  & 0.97 & 2.19  & 1.23 & 1.88  & 1.08 & 2.45  & 1.23 & \\cellcolor[HTML]{89BEDC}\\underline{1.22}  & \\cellcolor[HTML]{89BEDC}\\underline{0.91}  & \\cellcolor[HTML]{A9A9A9}1.78 & \\cellcolor[HTML]{A9A9A9}1.07 & \\cellcolor[HTML]{A9A9A9}3.06 & \\cellcolor[HTML]{A9A9A9}1.30 \\\\ \\hline\n",
      "\n",
      "Gold & 48 & 4.33  & \\cellcolor[HTML]{89BEDC}\\underline{1.39}  & 5.67  & 1.67 & 4.90  & 1.52 & \\cellcolor[HTML]{89BEDC}\\underline{4.31}  & \\cellcolor[HTML]{2B7BBA}\\textbf{1.39}  & 4.41  & 1.46 & \\cellcolor[HTML]{2B7BBA}\\textbf{4.31 }  & \\cellcolor[HTML]{A9A9A9}1.42 & \\cellcolor[HTML]{A9A9A9}4.79 & \\cellcolor[HTML]{A9A9A9}1.56 & \\cellcolor[HTML]{A9A9A9}4.61 & \\cellcolor[HTML]{A9A9A9}1.47 \\\\ \\hline\n",
      "\n",
      "Gold & 96 & 10.31  & 2.46 & 11.72  & 2.66 & \\cellcolor[HTML]{89BEDC}\\underline{9.99}  & \\cellcolor[HTML]{2B7BBA}\\textbf{2.44}  & 10.64  & 2.51 & \\cellcolor[HTML]{2B7BBA}\\textbf{9.65 }  & \\cellcolor[HTML]{89BEDC}\\underline{2.44}  & \\cellcolor[HTML]{A9A9A9}10.45 & \\cellcolor[HTML]{A9A9A9}2.51 & \\cellcolor[HTML]{A9A9A9}11.16 & \\cellcolor[HTML]{A9A9A9}2.64 & \\cellcolor[HTML]{A9A9A9}10.06 & \\cellcolor[HTML]{A9A9A9}2.45 \\\\ \\hline\n",
      "\n",
      "Natural Gas & 48 & 3.02  & 1.38 & 3.41  & 1.40 & 3.25  & 1.41 & 3.72  & 1.50 & 3.03  & 1.37 & \\cellcolor[HTML]{89BEDC}\\underline{2.87}  & \\cellcolor[HTML]{A9A9A9}1.34 & \\cellcolor[HTML]{2B7BBA}\\textbf{2.86 }  & \\cellcolor[HTML]{2B7BBA}\\textbf{1.33}  & \\cellcolor[HTML]{A9A9A9}2.89 & \\cellcolor[HTML]{89BEDC}\\underline{1.33}  \\\\ \\hline\n",
      "\n",
      "Natural Gas & 96 & \\cellcolor[HTML]{89BEDC}\\underline{5.28}  & \\cellcolor[HTML]{89BEDC}\\underline{1.76}  & 6.30  & 1.93 & 6.92  & 1.97 & 7.78  & 2.13 & 5.91  & 1.85 & \\cellcolor[HTML]{A9A9A9}6.15 & \\cellcolor[HTML]{A9A9A9}1.89 & \\cellcolor[HTML]{2B7BBA}\\textbf{4.73 }  & \\cellcolor[HTML]{2B7BBA}\\textbf{1.69}  & \\cellcolor[HTML]{A9A9A9}5.33 & \\cellcolor[HTML]{A9A9A9}1.78 \\\\ \\hline\n",
      "\n",
      "Exchange & 48 & \\cellcolor[HTML]{2B7BBA}\\textbf{1.42 }  & \\cellcolor[HTML]{2B7BBA}\\textbf{0.88}  & \\cellcolor[HTML]{89BEDC}\\underline{1.49}  & \\cellcolor[HTML]{89BEDC}\\underline{0.91}  & 2.65  & 1.29 & 1.50  & 0.91 & 1.80  & 1.01 & \\cellcolor[HTML]{A9A9A9}1.58 & \\cellcolor[HTML]{A9A9A9}0.96 & \\cellcolor[HTML]{A9A9A9}1.86 & \\cellcolor[HTML]{A9A9A9}1.05 & \\cellcolor[HTML]{A9A9A9}1.52 & \\cellcolor[HTML]{A9A9A9}0.92 \\\\ \\hline\n",
      "\n",
      "Exchange & 96 & \\cellcolor[HTML]{2B7BBA}\\textbf{1.73 }  & \\cellcolor[HTML]{89BEDC}\\underline{0.98}  & \\cellcolor[HTML]{89BEDC}\\underline{1.77}  & \\cellcolor[HTML]{2B7BBA}\\textbf{0.96}  & 3.93  & 1.63 & 1.82  & 1.02 & 1.88  & 1.03 & \\cellcolor[HTML]{A9A9A9}1.88 & \\cellcolor[HTML]{A9A9A9}1.05 & \\cellcolor[HTML]{A9A9A9}2.17 & \\cellcolor[HTML]{A9A9A9}1.14 & \\cellcolor[HTML]{A9A9A9}1.98 & \\cellcolor[HTML]{A9A9A9}1.07 \\\\ \\hline\n",
      "\n"
     ]
    }
   ],
   "source": [
    "for dataset in datasets[:-1]:\n",
    "    for horizon in [48, 96]:\n",
    "        df = rows_df[(rows_df['pred_len']==horizon) & (rows_df['percent']==100)]\n",
    "        print(f'{datasets_map[dataset]} & {horizon}', end='')\n",
    "        maes, mses = [], []\n",
    "        for model in models:\n",
    "            result = df[\n",
    "                (df['dataset'] == dataset) & (df['model'] == model)\n",
    "            ][['mse', 'mae']].values\n",
    "            \n",
    "            if len(result) == 0:\n",
    "                # print(f' & & ', end='')\n",
    "                maes.append(np.nan)\n",
    "                mses.append(np.nan)\n",
    "                continue\n",
    "                \n",
    "            mse, mae = result[0][0], result[0][1]\n",
    "            # print(f' & {mse:.2f} & {mae:.2f}', end='')\n",
    "            maes.append(mae)\n",
    "            mses.append(mse)\n",
    "            \n",
    "        print_rows(maes=maes, mses=mses)"
   ]
  },
  {
   "cell_type": "markdown",
   "metadata": {},
   "source": [
    "# RQ5\n",
    "\n",
    "Execution time and memory"
   ]
  },
  {
   "cell_type": "code",
   "execution_count": 16,
   "metadata": {},
   "outputs": [],
   "source": [
    "df = rows_df[(rows_df['pred_len'].isin([1, 24])) & (rows_df['percent']==100)]"
   ]
  },
  {
   "cell_type": "code",
   "execution_count": 17,
   "metadata": {
    "tags": []
   },
   "outputs": [
    {
     "name": "stdout",
     "output_type": "stream",
     "text": [
      "S\\&P 500  & \\cellcolor[HTML]{2B7BBA}\\textbf{2.0 }  & \\cellcolor[HTML]{2B7BBA}\\textbf{16 }  & 3.4  & 19  & 19.5  & 170  & 4.3  & 18  & \\cellcolor[HTML]{89BEDC}\\underline{2.8 }  & \\cellcolor[HTML]{89BEDC}\\underline{18 }  & \\cellcolor[HTML]{A9A9A9}37.5 & \\cellcolor[HTML]{A9A9A9}1127 & \\cellcolor[HTML]{A9A9A9}12.1 & \\cellcolor[HTML]{A9A9A9}1473 & \\cellcolor[HTML]{A9A9A9}5.9 & \\cellcolor[HTML]{A9A9A9}349 \\\\ \\hline\n",
      "\n",
      "Apple  & \\cellcolor[HTML]{2B7BBA}\\textbf{2.2 }  & \\cellcolor[HTML]{2B7BBA}\\textbf{16 }  & 4.1  & 19  & 24.0  & 167  & 4.7  & 18  & \\cellcolor[HTML]{89BEDC}\\underline{3.3 }  & \\cellcolor[HTML]{89BEDC}\\underline{18 }  & \\cellcolor[HTML]{A9A9A9}53.5 & \\cellcolor[HTML]{A9A9A9}1127 & \\cellcolor[HTML]{A9A9A9}13.1 & \\cellcolor[HTML]{A9A9A9}1470 & \\cellcolor[HTML]{A9A9A9}5.4 & \\cellcolor[HTML]{A9A9A9}349 \\\\ \\hline\n",
      "\n",
      "Microsoft  & \\cellcolor[HTML]{2B7BBA}\\textbf{2.6 }  & \\cellcolor[HTML]{2B7BBA}\\textbf{16 }  & 3.3  & 19  & 17.4  & 170  & 5.0  & 18  & \\cellcolor[HTML]{89BEDC}\\underline{3.3 }  & \\cellcolor[HTML]{89BEDC}\\underline{18 }  & \\cellcolor[HTML]{A9A9A9}47.5 & \\cellcolor[HTML]{A9A9A9}1127 & \\cellcolor[HTML]{A9A9A9}11.6 & \\cellcolor[HTML]{A9A9A9}1470 & \\cellcolor[HTML]{A9A9A9}6.4 & \\cellcolor[HTML]{A9A9A9}349 \\\\ \\hline\n",
      "\n",
      "Crude Oil  & \\cellcolor[HTML]{2B7BBA}\\textbf{2.0 }  & \\cellcolor[HTML]{2B7BBA}\\textbf{16 }  & \\cellcolor[HTML]{89BEDC}\\underline{2.8 }  & 19  & 21.5  & 170  & 4.6  & 18  & 2.8  & \\cellcolor[HTML]{89BEDC}\\underline{18 }  & \\cellcolor[HTML]{A9A9A9}45.4 & \\cellcolor[HTML]{A9A9A9}1127 & \\cellcolor[HTML]{A9A9A9}12.0 & \\cellcolor[HTML]{A9A9A9}1475 & \\cellcolor[HTML]{A9A9A9}5.3 & \\cellcolor[HTML]{A9A9A9}349 \\\\ \\hline\n",
      "\n",
      "Gold  & \\cellcolor[HTML]{2B7BBA}\\textbf{2.0 }  & \\cellcolor[HTML]{2B7BBA}\\textbf{16 }  & 2.8  & 19  & 28.5  & 167  & 5.6  & 18  & \\cellcolor[HTML]{89BEDC}\\underline{2.6 }  & \\cellcolor[HTML]{89BEDC}\\underline{18 }  & \\cellcolor[HTML]{A9A9A9}44.4 & \\cellcolor[HTML]{A9A9A9}1127 & \\cellcolor[HTML]{A9A9A9}11.7 & \\cellcolor[HTML]{A9A9A9}1475 & \\cellcolor[HTML]{A9A9A9}5.6 & \\cellcolor[HTML]{A9A9A9}349 \\\\ \\hline\n",
      "\n",
      "Natural Gas  & \\cellcolor[HTML]{2B7BBA}\\textbf{1.9 }  & \\cellcolor[HTML]{2B7BBA}\\textbf{16 }  & 2.7  & 19  & 24.0  & 169  & 4.5  & 18  & \\cellcolor[HTML]{89BEDC}\\underline{2.6 }  & \\cellcolor[HTML]{89BEDC}\\underline{18 }  & \\cellcolor[HTML]{A9A9A9}45.2 & \\cellcolor[HTML]{A9A9A9}1127 & \\cellcolor[HTML]{A9A9A9}8.0 & \\cellcolor[HTML]{A9A9A9}1117 & \\cellcolor[HTML]{A9A9A9}5.8 & \\cellcolor[HTML]{A9A9A9}349 \\\\ \\hline\n",
      "\n",
      "Exchange  & \\cellcolor[HTML]{2B7BBA}\\textbf{1.2 }  & \\cellcolor[HTML]{2B7BBA}\\textbf{16 }  & \\cellcolor[HTML]{89BEDC}\\underline{1.7 }  & 19  & 51.2  & 167  & 4.6  & 18  & 1.7  & \\cellcolor[HTML]{89BEDC}\\underline{18 }  & \\cellcolor[HTML]{A9A9A9}60.6 & \\cellcolor[HTML]{A9A9A9}1127 & \\cellcolor[HTML]{A9A9A9}11.7 & \\cellcolor[HTML]{A9A9A9}1462 & \\cellcolor[HTML]{A9A9A9}7.7 & \\cellcolor[HTML]{A9A9A9}350 \\\\ \\hline\n",
      "\n",
      "Financial Aid  & \\cellcolor[HTML]{2B7BBA}\\textbf{0.2 }  & \\cellcolor[HTML]{2B7BBA}\\textbf{16 }  & 0.3  & 18  & 0.5  & 163  & 0.4  & \\cellcolor[HTML]{89BEDC}\\underline{17 }  & \\cellcolor[HTML]{89BEDC}\\underline{0.2 }  & 17  & \\cellcolor[HTML]{A9A9A9}2.2 & \\cellcolor[HTML]{A9A9A9}1126 & \\cellcolor[HTML]{A9A9A9}1.6 & \\cellcolor[HTML]{A9A9A9}963 & \\cellcolor[HTML]{A9A9A9}1.2 & \\cellcolor[HTML]{A9A9A9}346 \\\\ \\hline\n",
      "\n"
     ]
    }
   ],
   "source": [
    "for dataset in datasets:\n",
    "    print(f'{datasets_map[dataset]} ', end='')\n",
    "    times, memories = [], []\n",
    "    for model in models:\n",
    "        result = df[\n",
    "            (df['dataset'] == dataset) & (df['model'] == model)\n",
    "        ][['time', 'memory']].values\n",
    "        \n",
    "        if len(result) == 0:\n",
    "            # print(f' & & ', end='')\n",
    "            times.append(np.nan)\n",
    "            memories.append(np.nan)\n",
    "            continue\n",
    "            \n",
    "        time_spent, memory = result[0][0], result[0][1]\n",
    "        # print(f' & {mse:.2f} & {mae:.2f}', end='')\n",
    "        times.append(time_spent)\n",
    "        memories.append(memory)\n",
    "        \n",
    "    min_memory, min_time, min_memory_2nd, min_time_2nd = get_mins(mses=times, maes=memories)\n",
    "    \n",
    "    for i in range(len(models)):\n",
    "        if i == min_time:\n",
    "            print(best_color + f'{times[i]:.1f} '+ end_bracket, end='')\n",
    "        elif i == min_time_2nd:\n",
    "            print(second_best_color + f'{times[i]:.1f} '+ end_bracket, end='')\n",
    "        elif models[i] in llm_models:\n",
    "            print(llm_color + f'{times[i]:.1f}', end='')\n",
    "        else:\n",
    "            print(f' & {times[i]:.1f} ', end='')\n",
    "            \n",
    "        if i == min_memory:\n",
    "            print(best_color + f'{memories[i]:.0f} '+ end_bracket, end='')\n",
    "        elif i == min_memory_2nd:\n",
    "            print(second_best_color + f'{memories[i]:.0f} '+ end_bracket, end='')\n",
    "        elif models[i] in llm_models:\n",
    "            print(llm_color + f'{memories[i]:.0f}', end='')\n",
    "        else:\n",
    "            print(f' & {memories[i]:.0f} ', end='')\n",
    "        \n",
    "    print(f' \\\\\\\\ \\\\hline')\n",
    "    print()"
   ]
  }
 ],
 "metadata": {
  "kernelspec": {
   "display_name": "Python 3",
   "language": "python",
   "name": "python3"
  },
  "language_info": {
   "codemirror_mode": {
    "name": "ipython",
    "version": 3
   },
   "file_extension": ".py",
   "mimetype": "text/x-python",
   "name": "python",
   "nbconvert_exporter": "python",
   "pygments_lexer": "ipython3",
   "version": "3.10.2"
  }
 },
 "nbformat": 4,
 "nbformat_minor": 4
}
