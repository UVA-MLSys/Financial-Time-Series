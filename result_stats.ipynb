{
 "cells": [
  {
   "cell_type": "markdown",
   "metadata": {},
   "source": [
    "# Import"
   ]
  },
  {
   "cell_type": "code",
   "execution_count": 1,
   "metadata": {},
   "outputs": [],
   "source": [
    "import os, re, pandas as pd\n",
    "import numpy as np"
   ]
  },
  {
   "cell_type": "markdown",
   "metadata": {},
   "source": [
    "# Extract result"
   ]
  },
  {
   "cell_type": "code",
   "execution_count": 2,
   "metadata": {},
   "outputs": [],
   "source": [
    "result_pattern = re.compile(r'mse:(?P<mse>\\d+.\\d+), mae:(?P<mae>\\d+.\\d+)\\n')\n",
    "memory_pattern = re.compile(r'Allocated (?P<allocated>\\d+.\\d+) MB, Max allocated (?P<max_allocated>\\d+.\\d+) MB\\n')\n",
    "memory_pattern2 = re.compile(r'Allocated (?P<allocated>\\d+.\\d+) MB\\n')"
   ]
  },
  {
   "cell_type": "code",
   "execution_count": 3,
   "metadata": {},
   "outputs": [],
   "source": [
    "time_pattern = re.compile(r'Time per epoch: (?P<time>\\d+.\\d+) sec.\\n')"
   ]
  },
  {
   "cell_type": "code",
   "execution_count": 12,
   "metadata": {},
   "outputs": [],
   "source": [
    "def find_and_add(rows, root, lines):\n",
    "    parameters = {\n",
    "        'seq_len': 96,\n",
    "        'pred_len': 24,\n",
    "        'percent': 100,\n",
    "    }\n",
    "\n",
    "    splits = root.split('\\\\')\n",
    "    iter_no = int(splits[-1])\n",
    "    dataset = splits[-3]\n",
    "    \n",
    "    if dataset == 'Financial_Aid':\n",
    "        return\n",
    "    model_folder = splits[-2]\n",
    "    model = model_folder.split('_')[0]\n",
    "\n",
    "    values = model_folder.split('_')[2::2]\n",
    "    for i, item in enumerate(model_folder.split('_')[1::2]):\n",
    "        if item == 'pl':\n",
    "            parameters['pred_len'] = int(values[i])\n",
    "        elif item == 'sl':\n",
    "            parameters['seq_len'] = int(values[i])\n",
    "        elif item == 'p':\n",
    "            parameters['percent'] = int(values[i])\n",
    "\n",
    "    result_found = memory_found = time_found = False\n",
    "\n",
    "    for line in lines[::-1]:\n",
    "        # search and extract numbers after mse and mae if the line starts with test scaled \n",
    "        if line.startswith('test scaled -- '):\n",
    "            results = result_pattern.search(line).groupdict()\n",
    "            mae = float(results['mae'])\n",
    "            mse = float(results['mse'])\n",
    "            print(f'MAE {mae}, MSE {mse}')\n",
    "            result_found = True\n",
    "            \n",
    "        elif line.startswith('Memory usage: '):\n",
    "            memory = memory_pattern.search(line)\n",
    "            if memory is None:\n",
    "                memory = memory_pattern2.search(line)\n",
    "                max_allocated = None\n",
    "            else:\n",
    "                memory = memory.groupdict()\n",
    "                max_allocated = float(memory['max_allocated'])\n",
    "            \n",
    "            allocated = float(memory['allocated'])\n",
    "            print(f'Allocated {allocated} MB, Max allocated {max_allocated} MB.')\n",
    "            memory_found = True\n",
    "        elif line.startswith('Time per epoch: '):\n",
    "            time_result = time_pattern.search(line).groupdict()\n",
    "            time_spent = float(time_result['time'])\n",
    "            print(f'Time spent {time_spent} sec.')\n",
    "            \n",
    "            time_found = True\n",
    "            \n",
    "        # stop searching if both result and memory are found\n",
    "        if result_found and memory_found and time_found:\n",
    "            break\n",
    "            \n",
    "    if result_found and memory_found and time_found:\n",
    "        rows['dataset'].append(dataset)\n",
    "        rows['model'].append(model)\n",
    "        rows['iteration'].append(iter_no)\n",
    "        rows['mae'].append(mae)\n",
    "        rows['mse'].append(mse)\n",
    "        rows['seq_len'].append(parameters['seq_len'])\n",
    "        rows['pred_len'].append(parameters['pred_len'])\n",
    "        rows['percent'].append(parameters['percent'])\n",
    "        \n",
    "        rows['memory'].append(allocated)\n",
    "        rows['time'].append(time_spent)"
   ]
  },
  {
   "cell_type": "code",
   "execution_count": null,
   "metadata": {},
   "outputs": [],
   "source": [
    "rows = {\n",
    "    col:[] for col in [\n",
    "        'dataset', 'model', 'iteration', 'mae', \n",
    "        'mse', 'seq_len', 'pred_len', 'percent',\n",
    "        'memory', 'time'\n",
    "    ]\n",
    "}\n",
    "\n",
    "for root, dirs, files in os.walk(u\".\"):\n",
    "    path = root.split(os.sep)\n",
    "    # print((len(path) - 1) * '---', os.path.basename(root))\n",
    "    for file in files:\n",
    "        # print(len(path) * '---', file)\n",
    "        if file == 'results.txt':\n",
    "            print(root, ' ', file)\n",
    "            \n",
    "            with open(os.path.join(root, file), 'r') as f:\n",
    "                lines = f.readlines()\n",
    "                find_and_add(rows, root, lines)"
   ]
  },
  {
   "cell_type": "code",
   "execution_count": 14,
   "metadata": {},
   "outputs": [],
   "source": [
    "rows_df = pd.DataFrame(rows)\n",
    "rows_df.to_csv('results2.csv', index=False)"
   ]
  },
  {
   "cell_type": "code",
   "execution_count": 15,
   "metadata": {},
   "outputs": [],
   "source": [
    "rows_df.fillna('mean', inplace=True)"
   ]
  },
  {
   "cell_type": "code",
   "execution_count": 16,
   "metadata": {},
   "outputs": [],
   "source": [
    "metrics = ['mae', 'mse', 'memory', 'time']\n",
    "groupby_columns = [col for col in rows_df.columns if col not in ['iteration']+metrics]\n",
    "rows_df = rows_df.groupby(groupby_columns)[metrics].mean().reset_index()"
   ]
  },
  {
   "cell_type": "code",
   "execution_count": 17,
   "metadata": {},
   "outputs": [],
   "source": [
    "models = ['DLinear', 'PatchTST', 'TimesNet', 'TimeMixer', 'iTransformer', 'TimeLLM', 'CALF', 'OFA']\n",
    "datasets = ['Exchange_Rate_Report', 'SPX500', 'MSFT', 'Apple','Natural_Gas','Crude_Oil', 'Gold']"
   ]
  },
  {
   "cell_type": "markdown",
   "metadata": {},
   "source": [
    "# RQ1"
   ]
  },
  {
   "cell_type": "code",
   "execution_count": 18,
   "metadata": {},
   "outputs": [],
   "source": [
    "df = rows_df[(rows_df['pred_len']==24) & (rows_df['percent']==100)]"
   ]
  },
  {
   "cell_type": "code",
   "execution_count": 19,
   "metadata": {},
   "outputs": [],
   "source": [
    "def get_mins(mses, maes):\n",
    "    maes = np.array(maes)\n",
    "    mses = np.array(mses)\n",
    "    \n",
    "    min_mae = np.nanargmin(maes)\n",
    "    min_mse = np.nanargmin(mses)\n",
    "    \n",
    "    prev_value = maes[min_mae]\n",
    "    maes[min_mae] = np.inf\n",
    "    min_mae_2nd = np.nanargmin(maes)\n",
    "    maes[min_mae] = prev_value\n",
    "    \n",
    "    prev_value = mses[min_mse]\n",
    "    mses[min_mse] = np.inf\n",
    "    min_mse_2nd = np.nanargmin(mses)\n",
    "    mses[min_mse] = prev_value\n",
    "    \n",
    "    return min_mae, min_mse, min_mae_2nd, min_mse_2nd"
   ]
  },
  {
   "cell_type": "code",
   "execution_count": 20,
   "metadata": {},
   "outputs": [
    {
     "name": "stdout",
     "output_type": "stream",
     "text": [
      "Exchange_Rate_Report  & \\textcolor{red}{\\textbf{0.92 }} & \\textcolor{red}{\\textbf{0.70 }} & 0.94  & \\textcolor{blue}{\\underline{0.71 }} & 1.71  & 0.99  & 0.95  & 0.72  & 1.06  & 0.77  & \\textcolor{blue}{\\underline{0.93 }} & 0.73  & 1.14  & 0.81  & 0.97  & 0.72  \\\\ \\hline\n",
      "SPX500  & 1.10  & 0.81  & \\textcolor{blue}{\\underline{0.99 }} & 0.79  & 1.18  & 0.84  & 1.00  & \\textcolor{blue}{\\underline{0.75 }} & 1.27  & 0.87  & 1.10  & 0.81  & 1.16  & 0.84  & \\textcolor{red}{\\textbf{0.79 }} & \\textcolor{red}{\\textbf{0.68 }} \\\\ \\hline\n",
      "MSFT  & 1.89  & 0.96  & \\textcolor{red}{\\textbf{1.55 }} & \\textcolor{blue}{\\underline{0.87 }} & 1.60  & 0.92  & \\textcolor{blue}{\\underline{1.55 }} & \\textcolor{red}{\\textbf{0.86 }} & 1.63  & 0.91  & 2.03  & 1.01  & 1.94  & 1.00  & 1.90  & 0.93  \\\\ \\hline\n",
      "Apple  & \\textcolor{red}{\\textbf{1.58 }} & \\textcolor{red}{\\textbf{0.96 }} & 2.03  & 1.06  & 1.75  & \\textcolor{blue}{\\underline{1.01 }} & 1.91  & 1.06  & 1.94  & 1.10  & \\textcolor{blue}{\\underline{1.74 }} & 1.02  & 1.79  & 1.04  & 1.75  & 1.02  \\\\ \\hline\n",
      "Natural_Gas  & 1.80  & 1.02  & 2.02  & 1.05  & 1.84  & 1.02  & 2.17  & 1.11  & 1.81  & 1.02  & 2.11  & 1.13  & \\textcolor{red}{\\textbf{1.77 }} & \\textcolor{blue}{\\underline{1.00 }} & \\textcolor{blue}{\\underline{1.77 }} & \\textcolor{red}{\\textbf{0.99 }} \\\\ \\hline\n",
      "Crude_Oil  & 1.08  & 0.78  & \\textcolor{blue}{\\underline{1.05 }} & \\textcolor{red}{\\textbf{0.76 }} & 1.19  & 0.82  & 1.64  & 0.93  & 1.25  & 0.83  & 1.13  & 0.80  & 1.28  & 0.88  & \\textcolor{red}{\\textbf{1.05 }} & \\textcolor{blue}{\\underline{0.77 }} \\\\ \\hline\n",
      "Gold  & \\textcolor{blue}{\\underline{2.41 }} & \\textcolor{red}{\\textbf{1.05 }} & 2.51  & 1.09  & 2.46  & 1.09  & 2.49  & \\textcolor{blue}{\\underline{1.06 }} & 2.44  & 1.09  & 2.89  & 1.20  & 2.62  & 1.17  & \\textcolor{red}{\\textbf{2.34 }} & 1.06  \\\\ \\hline\n"
     ]
    }
   ],
   "source": [
    "for dataset in datasets:\n",
    "    print(f'{dataset} ', end='')\n",
    "    maes, mses = [], []\n",
    "    for model in models:\n",
    "        result = df[\n",
    "            (df['dataset'] == dataset) & (df['model'] == model)\n",
    "        ][['mse', 'mae']].values\n",
    "        \n",
    "        if len(result) == 0:\n",
    "            # print(f' & & ', end='')\n",
    "            maes.append(np.nan)\n",
    "            mses.append(np.nan)\n",
    "            continue\n",
    "            \n",
    "        mse, mae = result[0][0], result[0][1]\n",
    "        # print(f' & {mse:.2f} & {mae:.2f}', end='')\n",
    "        maes.append(mae)\n",
    "        mses.append(mse)\n",
    "        \n",
    "    min_mae, min_mse, min_mae_2nd, min_mse_2nd = get_mins(mses=mses, maes=maes)\n",
    "    \n",
    "    for i in range(len(models)):\n",
    "        if i == min_mse:\n",
    "            print(r' & \\textcolor{red}{\\textbf{' + f'{mses[i]:.2f} '+r'}}', end='')\n",
    "        elif i == min_mse_2nd:\n",
    "            print(r' & \\textcolor{blue}{\\underline{' + f'{mses[i]:.2f} '+r'}}', end='')\n",
    "        else:\n",
    "            print(f' & {mses[i]:.2f} ', end='')\n",
    "            \n",
    "        if i == min_mae:\n",
    "            print(r' & \\textcolor{red}{\\textbf{' + f'{maes[i]:.2f} '+r'}}', end='')\n",
    "        elif i == min_mae_2nd:\n",
    "            print(r' & \\textcolor{blue}{\\underline{' + f'{maes[i]:.2f} '+r'}}', end='')\n",
    "        else:\n",
    "            print(f' & {maes[i]:.2f} ', end='')\n",
    "        \n",
    "    print(f' \\\\\\\\ \\\\hline')"
   ]
  },
  {
   "cell_type": "markdown",
   "metadata": {},
   "source": [
    "# RQ2"
   ]
  },
  {
   "cell_type": "code",
   "execution_count": 21,
   "metadata": {},
   "outputs": [],
   "source": [
    "df = rows_df[(rows_df['pred_len']==24) & (rows_df['percent']==10)]"
   ]
  },
  {
   "cell_type": "code",
   "execution_count": 22,
   "metadata": {},
   "outputs": [
    {
     "name": "stdout",
     "output_type": "stream",
     "text": [
      "Exchange_Rate_Report  & 1.48  & 0.92  & 1.28  & 0.85  & 2.87  & 1.34  & 1.29  & 0.84  & 1.65  & 0.96  & \\textcolor{red}{\\textbf{1.20 }} & \\textcolor{red}{\\textbf{0.81 }} & 1.48  & 0.92  & \\textcolor{blue}{\\underline{1.22 }} & \\textcolor{blue}{\\underline{0.81 }} \\\\ \\hline\n",
      "SPX500  & 2.08  & 1.14  & \\textcolor{blue}{\\underline{2.03 }} & \\textcolor{red}{\\textbf{1.14 }} & 2.43  & 1.18  & 2.49  & 1.25  & 2.19  & 1.19  & \\textcolor{red}{\\textbf{1.94 }} & \\textcolor{blue}{\\underline{1.14 }} & 2.37  & 1.19  & 3.07  & 1.40  \\\\ \\hline\n",
      "MSFT  & 2.51  & 1.10  & \\textcolor{red}{\\textbf{2.13 }} & \\textcolor{red}{\\textbf{1.06 }} & 3.55  & 1.43  & 2.85  & 1.18  & 2.49  & 1.15  & \\textcolor{blue}{\\underline{2.40 }} & \\textcolor{blue}{\\underline{1.10 }} & 2.97  & 1.27  & 3.40  & 1.37  \\\\ \\hline\n",
      "Apple  & 2.78  & 1.30  & \\textcolor{blue}{\\underline{2.36 }} & \\textcolor{red}{\\textbf{1.21 }} & 3.22  & 1.41  & 3.44  & 1.46  & 3.05  & 1.39  & 3.00  & 1.36  & \\textcolor{red}{\\textbf{2.33 }} & \\textcolor{blue}{\\underline{1.21 }} & 2.80  & 1.29  \\\\ \\hline\n",
      "Natural_Gas  & 2.20  & 1.16  & 2.48  & 1.24  & 2.55  & 1.23  & 2.91  & 1.34  & \\textcolor{red}{\\textbf{2.12 }} & \\textcolor{red}{\\textbf{1.12 }} & 2.36  & 1.20  & 2.30  & 1.17  & \\textcolor{blue}{\\underline{2.17 }} & \\textcolor{blue}{\\underline{1.13 }} \\\\ \\hline\n",
      "Crude_Oil  & \\textcolor{red}{\\textbf{1.66 }} & \\textcolor{blue}{\\underline{1.01 }} & 1.96  & 1.05  & 2.75  & 1.29  & 2.06  & 1.14  & 1.92  & 1.07  & \\textcolor{blue}{\\underline{1.75 }} & \\textcolor{red}{\\textbf{1.01 }} & 2.13  & 1.14  & 2.42  & 1.15  \\\\ \\hline\n",
      "Gold  & 2.78  & \\textcolor{blue}{\\underline{1.14 }} & 2.68  & 1.15  & \\textcolor{blue}{\\underline{2.66 }} & 1.17  & \\textcolor{red}{\\textbf{2.57 }} & \\textcolor{red}{\\textbf{1.11 }} & 3.00  & 1.22  & 2.71  & 1.17  & 3.06  & 1.24  & 3.38  & 1.32  \\\\ \\hline\n"
     ]
    }
   ],
   "source": [
    "for dataset in datasets:\n",
    "    print(f'{dataset} ', end='')\n",
    "    maes, mses = [], []\n",
    "    for model in models:\n",
    "        result = df[\n",
    "            (df['dataset'] == dataset) & (df['model'] == model)\n",
    "        ][['mse', 'mae']].values\n",
    "        \n",
    "        if len(result) == 0:\n",
    "            # print(f' & & ', end='')\n",
    "            maes.append(np.nan)\n",
    "            mses.append(np.nan)\n",
    "            continue\n",
    "            \n",
    "        mse, mae = result[0][0], result[0][1]\n",
    "        # print(f' & {mse:.2f} & {mae:.2f}', end='')\n",
    "        maes.append(mae)\n",
    "        mses.append(mse)\n",
    "        \n",
    "    min_mae, min_mse, min_mae_2nd, min_mse_2nd = get_mins(mses=mses, maes=maes)\n",
    "    \n",
    "    for i in range(len(models)):\n",
    "        if i == min_mse:\n",
    "            print(r' & \\textcolor{red}{\\textbf{' + f'{mses[i]:.2f} '+r'}}', end='')\n",
    "        elif i == min_mse_2nd:\n",
    "            print(r' & \\textcolor{blue}{\\underline{' + f'{mses[i]:.2f} '+r'}}', end='')\n",
    "        else:\n",
    "            print(f' & {mses[i]:.2f} ', end='')\n",
    "            \n",
    "        if i == min_mae:\n",
    "            print(r' & \\textcolor{red}{\\textbf{' + f'{maes[i]:.2f} '+r'}}', end='')\n",
    "        elif i == min_mae_2nd:\n",
    "            print(r' & \\textcolor{blue}{\\underline{' + f'{maes[i]:.2f} '+r'}}', end='')\n",
    "        else:\n",
    "            print(f' & {maes[i]:.2f} ', end='')\n",
    "        \n",
    "    print(f' \\\\\\\\ \\\\hline')"
   ]
  },
  {
   "cell_type": "markdown",
   "metadata": {},
   "source": [
    "# RQ3"
   ]
  },
  {
   "cell_type": "markdown",
   "metadata": {},
   "source": [
    "# RQ4"
   ]
  },
  {
   "cell_type": "code",
   "execution_count": 23,
   "metadata": {},
   "outputs": [
    {
     "name": "stdout",
     "output_type": "stream",
     "text": [
      "Exchange_Rate_Report & 48 & \\textcolor{red}{\\textbf{1.42 }} & \\textcolor{red}{\\textbf{0.88 }} & \\textcolor{blue}{\\underline{1.49 }} & \\textcolor{blue}{\\underline{0.91 }} & 2.65  & 1.29  & 1.50  & 0.91  & 1.80  & 1.01  & 1.58  & 0.96  & 1.86  & 1.05  & 1.52  & 0.92  \\\\ \\hline\n",
      "Exchange_Rate_Report & 96 & \\textcolor{red}{\\textbf{1.73 }} & \\textcolor{blue}{\\underline{0.98 }} & \\textcolor{blue}{\\underline{1.77 }} & \\textcolor{red}{\\textbf{0.96 }} & 3.93  & 1.63  & 1.82  & 1.02  & 1.88  & 1.03  & 1.88  & 1.05  & 2.17  & 1.14  & 1.98  & 1.07  \\\\ \\hline\n",
      "SPX500 & 48 & 2.24  & 1.15  & 2.05  & 1.08  & 2.30  & 1.13  & \\textcolor{red}{\\textbf{1.51 }} & \\textcolor{red}{\\textbf{0.93 }} & 2.62  & 1.26  & 2.10  & 1.11  & 1.98  & 1.08  & \\textcolor{blue}{\\underline{1.63 }} & \\textcolor{blue}{\\underline{0.94 }} \\\\ \\hline\n",
      "SPX500 & 96 & 9.84  & 2.20  & 5.31  & \\textcolor{blue}{\\underline{1.65 }} & 6.17  & 1.78  & 5.72  & 1.71  & 6.54  & 1.87  & \\textcolor{blue}{\\underline{5.25 }} & 1.67  & 5.93  & 1.73  & \\textcolor{red}{\\textbf{4.11 }} & \\textcolor{red}{\\textbf{1.43 }} \\\\ \\hline\n",
      "MSFT & 48 & 2.59  & 1.15  & \\textcolor{blue}{\\underline{2.55 }} & 1.14  & 2.80  & 1.24  & \\textcolor{red}{\\textbf{2.49 }} & \\textcolor{blue}{\\underline{1.12 }} & 3.06  & 1.28  & 2.65  & 1.18  & 3.30  & 1.30  & 2.59  & \\textcolor{red}{\\textbf{1.11 }} \\\\ \\hline\n",
      "MSFT & 96 & 5.84  & 1.59  & \\textcolor{red}{\\textbf{4.32 }} & \\textcolor{red}{\\textbf{1.47 }} & \\textcolor{blue}{\\underline{4.55 }} & 1.53  & 4.84  & 1.58  & 4.98  & 1.73  & 5.24  & 1.66  & 4.89  & 1.59  & 4.98  & \\textcolor{blue}{\\underline{1.48 }} \\\\ \\hline\n",
      "Apple & 48 & \\textcolor{blue}{\\underline{3.24 }} & \\textcolor{blue}{\\underline{1.40 }} & 3.99  & 1.51  & 4.24  & 1.58  & 3.63  & 1.46  & 3.82  & 1.55  & \\textcolor{red}{\\textbf{3.07 }} & \\textcolor{red}{\\textbf{1.37 }} & 3.89  & 1.59  & 3.52  & 1.44  \\\\ \\hline\n",
      "Apple & 96 & \\textcolor{blue}{\\underline{4.42 }} & \\textcolor{red}{\\textbf{1.57 }} & 5.94  & 1.78  & 6.33  & 1.88  & 4.70  & 1.60  & 5.09  & 1.77  & \\textcolor{red}{\\textbf{4.35 }} & \\textcolor{blue}{\\underline{1.58 }} & 4.49  & 1.66  & 6.91  & 1.96  \\\\ \\hline\n",
      "Natural_Gas & 48 & 3.02  & 1.38  & 3.41  & 1.40  & 3.25  & 1.41  & 3.72  & 1.50  & 3.03  & 1.37  & \\textcolor{blue}{\\underline{2.87 }} & 1.34  & \\textcolor{red}{\\textbf{2.86 }} & \\textcolor{red}{\\textbf{1.33 }} & 2.89  & \\textcolor{blue}{\\underline{1.33 }} \\\\ \\hline\n",
      "Natural_Gas & 96 & \\textcolor{blue}{\\underline{5.28 }} & \\textcolor{blue}{\\underline{1.76 }} & 6.30  & 1.93  & 6.92  & 1.97  & 7.78  & 2.13  & 5.91  & 1.85  & 6.15  & 1.89  & \\textcolor{red}{\\textbf{4.73 }} & \\textcolor{red}{\\textbf{1.69 }} & 5.33  & 1.78  \\\\ \\hline\n",
      "Crude_Oil & 48 & \\textcolor{red}{\\textbf{1.07 }} & \\textcolor{red}{\\textbf{0.83 }} & 1.43  & 0.91  & 1.76  & 1.01  & 1.87  & 1.04  & 1.25  & 0.88  & \\textcolor{blue}{\\underline{1.11 }} & \\textcolor{blue}{\\underline{0.85 }} & 1.48  & 0.96  & 1.28  & 0.86  \\\\ \\hline\n",
      "Crude_Oil & 96 & \\textcolor{red}{\\textbf{1.13 }} & \\textcolor{red}{\\textbf{0.87 }} & 1.43  & 0.97  & 2.19  & 1.23  & 1.88  & 1.08  & 2.45  & 1.23  & \\textcolor{blue}{\\underline{1.22 }} & \\textcolor{blue}{\\underline{0.91 }} & 1.78  & 1.07  & 3.06  & 1.30  \\\\ \\hline\n",
      "Gold & 48 & 4.33  & \\textcolor{blue}{\\underline{1.39 }} & 5.67  & 1.67  & 4.90  & 1.52  & \\textcolor{blue}{\\underline{4.31 }} & \\textcolor{red}{\\textbf{1.39 }} & 4.41  & 1.46  & \\textcolor{red}{\\textbf{4.31 }} & 1.42  & 4.79  & 1.56  & 4.61  & 1.47  \\\\ \\hline\n",
      "Gold & 96 & 10.31  & 2.46  & 11.72  & 2.66  & \\textcolor{blue}{\\underline{9.99 }} & \\textcolor{red}{\\textbf{2.44 }} & 10.64  & 2.51  & \\textcolor{red}{\\textbf{9.65 }} & \\textcolor{blue}{\\underline{2.44 }} & 10.45  & 2.51  & 11.16  & 2.64  & 10.06  & 2.45  \\\\ \\hline\n"
     ]
    }
   ],
   "source": [
    "for dataset in datasets:\n",
    "    for horizon in [48, 96]:\n",
    "        df = rows_df[(rows_df['pred_len']==horizon) & (rows_df['percent']==100)]\n",
    "        print(f'{dataset} & {horizon}', end='')\n",
    "        maes, mses = [], []\n",
    "        for model in models:\n",
    "            result = df[\n",
    "                (df['dataset'] == dataset) & (df['model'] == model)\n",
    "            ][['mse', 'mae']].values\n",
    "            \n",
    "            if len(result) == 0:\n",
    "                # print(f' & & ', end='')\n",
    "                maes.append(np.nan)\n",
    "                mses.append(np.nan)\n",
    "                continue\n",
    "                \n",
    "            mse, mae = result[0][0], result[0][1]\n",
    "            # print(f' & {mse:.2f} & {mae:.2f}', end='')\n",
    "            maes.append(mae)\n",
    "            mses.append(mse)\n",
    "            \n",
    "        min_mae, min_mse, min_mae_2nd, min_mse_2nd = get_mins(mses=mses, maes=maes)\n",
    "        \n",
    "        for i in range(len(models)):\n",
    "            if i == min_mse:\n",
    "                print(r' & \\textcolor{red}{\\textbf{' + f'{mses[i]:.2f} '+r'}}', end='')\n",
    "            elif i == min_mse_2nd:\n",
    "                print(r' & \\textcolor{blue}{\\underline{' + f'{mses[i]:.2f} '+r'}}', end='')\n",
    "            else:\n",
    "                print(f' & {mses[i]:.2f} ', end='')\n",
    "                \n",
    "            if i == min_mae:\n",
    "                print(r' & \\textcolor{red}{\\textbf{' + f'{maes[i]:.2f} '+r'}}', end='')\n",
    "            elif i == min_mae_2nd:\n",
    "                print(r' & \\textcolor{blue}{\\underline{' + f'{maes[i]:.2f} '+r'}}', end='')\n",
    "            else:\n",
    "                print(f' & {maes[i]:.2f} ', end='')\n",
    "            \n",
    "        print(f' \\\\\\\\ \\\\hline')"
   ]
  },
  {
   "cell_type": "markdown",
   "metadata": {},
   "source": [
    "# RQ5"
   ]
  },
  {
   "cell_type": "code",
   "execution_count": 24,
   "metadata": {},
   "outputs": [],
   "source": [
    "df = rows_df[(rows_df['pred_len']==24) & (rows_df['percent']==100)]"
   ]
  },
  {
   "cell_type": "code",
   "execution_count": 25,
   "metadata": {
    "tags": []
   },
   "outputs": [
    {
     "name": "stdout",
     "output_type": "stream",
     "text": [
      "Exchange_Rate_Report  & \\textcolor{red}{\\textbf{1.2 }} & \\textcolor{red}{\\textbf{16 }} & \\textcolor{blue}{\\underline{1.7 }} & 19  & 51.2  & 167  & 4.6  & 18  & 1.7  & \\textcolor{blue}{\\underline{18 }} & 60.6  & 1127  & 11.7  & 1462  & 7.7  & 350  \\\\ \\hline\n",
      "\n",
      "SPX500  & \\textcolor{red}{\\textbf{2.0 }} & \\textcolor{red}{\\textbf{16 }} & 3.4  & 19  & 19.5  & 170  & 4.3  & 18  & \\textcolor{blue}{\\underline{2.8 }} & \\textcolor{blue}{\\underline{18 }} & 37.5  & 1127  & 12.1  & 1473  & 5.9  & 349  \\\\ \\hline\n",
      "\n",
      "MSFT  & \\textcolor{red}{\\textbf{2.6 }} & \\textcolor{red}{\\textbf{16 }} & 3.3  & 19  & 17.4  & 170  & 5.0  & 18  & \\textcolor{blue}{\\underline{3.3 }} & \\textcolor{blue}{\\underline{18 }} & 47.5  & 1127  & 11.6  & 1470  & 6.4  & 349  \\\\ \\hline\n",
      "\n",
      "Apple  & \\textcolor{red}{\\textbf{2.2 }} & \\textcolor{red}{\\textbf{16 }} & 4.1  & 19  & 24.0  & 167  & 4.7  & 18  & \\textcolor{blue}{\\underline{3.3 }} & \\textcolor{blue}{\\underline{18 }} & 53.5  & 1127  & 13.1  & 1470  & 5.4  & 349  \\\\ \\hline\n",
      "\n",
      "Natural_Gas  & \\textcolor{red}{\\textbf{1.9 }} & \\textcolor{red}{\\textbf{16 }} & 2.7  & 19  & 24.0  & 169  & 4.5  & 18  & \\textcolor{blue}{\\underline{2.6 }} & \\textcolor{blue}{\\underline{18 }} & 45.2  & 1127  & 8.0  & 1117  & 5.8  & 349  \\\\ \\hline\n",
      "\n",
      "Crude_Oil  & \\textcolor{red}{\\textbf{2.0 }} & \\textcolor{red}{\\textbf{16 }} & \\textcolor{blue}{\\underline{2.8 }} & 19  & 21.5  & 170  & 4.6  & 18  & 2.8  & \\textcolor{blue}{\\underline{18 }} & 45.4  & 1127  & 12.0  & 1475  & 5.3  & 349  \\\\ \\hline\n",
      "\n",
      "Gold  & \\textcolor{red}{\\textbf{2.0 }} & \\textcolor{red}{\\textbf{16 }} & 2.8  & 19  & 28.5  & 167  & 5.6  & 18  & \\textcolor{blue}{\\underline{2.6 }} & \\textcolor{blue}{\\underline{18 }} & 44.4  & 1127  & 11.7  & 1475  & 5.6  & 349  \\\\ \\hline\n",
      "\n"
     ]
    }
   ],
   "source": [
    "for dataset in datasets:\n",
    "    print(f'{dataset} ', end='')\n",
    "    times, memories = [], []\n",
    "    for model in models:\n",
    "        result = df[\n",
    "            (df['dataset'] == dataset) & (df['model'] == model)\n",
    "        ][['time', 'memory']].values\n",
    "        \n",
    "        if len(result) == 0:\n",
    "            # print(f' & & ', end='')\n",
    "            times.append(np.nan)\n",
    "            memories.append(np.nan)\n",
    "            continue\n",
    "            \n",
    "        time_spent, memory = result[0][0], result[0][1]\n",
    "        # print(f' & {mse:.2f} & {mae:.2f}', end='')\n",
    "        times.append(time_spent)\n",
    "        memories.append(memory)\n",
    "        \n",
    "    min_memory, min_time, min_memory_2nd, min_time_2nd = get_mins(mses=times, maes=memories)\n",
    "    \n",
    "    for i in range(len(models)):\n",
    "        if i == min_time:\n",
    "            print(r' & \\textcolor{red}{\\textbf{' + f'{times[i]:.1f} '+r'}}', end='')\n",
    "        elif i == min_time_2nd:\n",
    "            print(r' & \\textcolor{blue}{\\underline{' + f'{times[i]:.1f} '+r'}}', end='')\n",
    "        else:\n",
    "            print(f' & {times[i]:.1f} ', end='')\n",
    "            \n",
    "        if i == min_memory:\n",
    "            print(r' & \\textcolor{red}{\\textbf{' + f'{memories[i]:.0f} '+r'}}', end='')\n",
    "        elif i == min_memory_2nd:\n",
    "            print(r' & \\textcolor{blue}{\\underline{' + f'{memories[i]:.0f} '+r'}}', end='')\n",
    "        else:\n",
    "            print(f' & {memories[i]:.0f} ', end='')\n",
    "        \n",
    "    print(f' \\\\\\\\ \\\\hline')\n",
    "    print()"
   ]
  }
 ],
 "metadata": {
  "kernelspec": {
   "display_name": "Python 3 (ipykernel)",
   "language": "python",
   "name": "python3"
  },
  "language_info": {
   "codemirror_mode": {
    "name": "ipython",
    "version": 3
   },
   "file_extension": ".py",
   "mimetype": "text/x-python",
   "name": "python",
   "nbconvert_exporter": "python",
   "pygments_lexer": "ipython3",
   "version": "3.11.4"
  }
 },
 "nbformat": 4,
 "nbformat_minor": 4
}
